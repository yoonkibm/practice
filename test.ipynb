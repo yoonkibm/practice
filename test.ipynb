{
 "cells": [
  {
   "cell_type": "code",
   "execution_count": 1,
   "metadata": {},
   "outputs": [
    {
     "name": "stdout",
     "output_type": "stream",
     "text": [
      "[('Hello, how are you?', '안녕하세요, 어떻게 지내세요?'), ('What is your name?', '당신의 이름은 무엇인가요?'), ('I’m fine, thank you.', '잘 지내요, 감사합니다.'), ('Where are you from?', '어디에서 오셨나요?'), ('Please sit down.', '앉아주세요.'), ('Don’t touch that!', '그것을 만지지 마세요!'), ('Could you help me, please?', '도와주실 수 있나요?'), ('What time is it?', '지금 몇 시인가요?'), ('It’s 3 o’clock.', '3시입니다.'), ('How much does it cost?', '가격이 얼마인가요?'), ('It costs ten dollars.', '10달러입니다.'), ('Where is the nearest subway station?', '가장 가까운 지하철역은 어디인가요?'), ('I would like to go to the airport.', '공항으로 가고 싶어요.'), ('Do you have a map?', '지도 있나요?'), ('I’d like a coffee, please.', '커피 한 잔 주세요.'), ('Can I see the menu?', '메뉴를 볼 수 있을까요?'), ('Is this dish spicy?', '이 요리는 매운가요?'), ('I need to go to the supermarket.', '나는 슈퍼마켓에 가야 해요.'), ('The weather is nice today.', '오늘 날씨가 좋네요.'), ('I don’t feel well.', '몸이 좋지 않아요.'), ('I woke up at 7 AM.', '나는 오전 7시에 일어났어요.'), ('What are you doing this weekend?', '이번 주말에 뭐 하세요?'), ('See you tomorrow.', '내일 봐요.'), ('I am happy today.', '나는 오늘 행복해요.'), ('He is very angry.', '그는 매우 화가 났어요.'), ('I am a little tired.', '나는 조금 피곤해요.')]\n"
     ]
    }
   ],
   "source": [
    "def load_data(file_path):\n",
    "    with open(file_path, \"r\", encoding=\"utf-8\") as f:\n",
    "        data = []\n",
    "        for line in f:\n",
    "            src, tgt = line.strip().split(\"\\t\")\n",
    "            data.append((src, tgt))\n",
    "        return data\n",
    "    \n",
    "data =load_data(\"D:\\\\Users\\\\user\\\\git\\\\practice\\\\data\\\\en_kr.txt\")\n",
    "print(data)"
   ]
  },
  {
   "cell_type": "code",
   "execution_count": 2,
   "metadata": {},
   "outputs": [
    {
     "name": "stderr",
     "output_type": "stream",
     "text": [
      "d:\\Users\\user\\anaconda3\\envs\\study\\lib\\site-packages\\tqdm\\auto.py:21: TqdmWarning: IProgress not found. Please update jupyter and ipywidgets. See https://ipywidgets.readthedocs.io/en/stable/user_install.html\n",
      "  from .autonotebook import tqdm as notebook_tqdm\n"
     ]
    }
   ],
   "source": [
    "from transformers import AutoTokenizer\n",
    "\n",
    "tokenizer = AutoTokenizer.from_pretrained(\"bert-base-uncased\")\n",
    "\n",
    "def tokenize_data(data, tokenizer, max_length=128):\n",
    "    tokenized_data = []\n",
    "    for src,tgt in data:\n",
    "        src_tokens = tokenizer(src, max_length=max_length, padding = \"max_length\", truncation=True, return_tensors=\"pt\")\n",
    "        tgt_tokens = tokenizer(tgt, max_length=max_length, padding = \"max_length\", truncation=True, return_tensors=\"pt\")\n",
    "        tokenized_data.append((src_tokens, tgt_tokens))\n",
    "    return tokenized_data\n",
    "\n",
    "tokenized_data = tokenize_data(data, tokenizer)"
   ]
  },
  {
   "cell_type": "code",
   "execution_count": 3,
   "metadata": {},
   "outputs": [],
   "source": [
    "from torch.utils.data import Dataset\n",
    "\n",
    "class TextDataset(Dataset):\n",
    "    def __init__(self, tokenized_data):\n",
    "        self.data = tokenized_data\n",
    "\n",
    "    def __len__(self):\n",
    "        return len(self.data)\n",
    "\n",
    "    def __getitem__(self, idx):\n",
    "        src, tgt = self.data[idx]\n",
    "        return {\n",
    "            \"input_ids\": src[\"input_ids\"].squeeze(0),\n",
    "            \"attention_mask\": src[\"attention_mask\"].squeeze(0),\n",
    "            \"labels\": tgt[\"input_ids\"].squeeze(0),\n",
    "        }\n",
    "    \n",
    "dataset = TextDataset(tokenized_data)"
   ]
  },
  {
   "cell_type": "code",
   "execution_count": 4,
   "metadata": {},
   "outputs": [
    {
     "name": "stdout",
     "output_type": "stream",
     "text": [
      "26\n"
     ]
    }
   ],
   "source": [
    "print(len(tokenized_data))"
   ]
  },
  {
   "cell_type": "code",
   "execution_count": 5,
   "metadata": {},
   "outputs": [
    {
     "name": "stdout",
     "output_type": "stream",
     "text": [
      "torch.Size([2, 128])\n",
      "torch.Size([2, 128])\n",
      "torch.Size([2, 128])\n",
      "torch.Size([2, 128])\n",
      "torch.Size([2, 128])\n",
      "torch.Size([2, 128])\n",
      "torch.Size([2, 128])\n",
      "torch.Size([2, 128])\n",
      "torch.Size([2, 128])\n",
      "torch.Size([2, 128])\n",
      "torch.Size([2, 128])\n",
      "torch.Size([2, 128])\n",
      "torch.Size([2, 128])\n",
      "torch.Size([2, 128])\n",
      "torch.Size([2, 128])\n",
      "torch.Size([2, 128])\n",
      "torch.Size([2, 128])\n",
      "torch.Size([2, 128])\n",
      "torch.Size([2, 128])\n",
      "torch.Size([2, 128])\n",
      "torch.Size([2, 128])\n",
      "torch.Size([2, 128])\n",
      "torch.Size([2, 128])\n",
      "torch.Size([2, 128])\n",
      "torch.Size([2, 128])\n",
      "torch.Size([2, 128])\n"
     ]
    }
   ],
   "source": [
    "from torch.utils.data import DataLoader\n",
    "\n",
    "# DataLoader 생성\n",
    "dataloader = DataLoader(dataset, batch_size=2, shuffle=True)\n",
    "\n",
    "# DataLoader 사용 예제\n",
    "for batch in dataloader:\n",
    "    print(batch[\"input_ids\"].shape)  # (batch_size, seq_len)\n",
    "    print(batch[\"labels\"].shape)    # (batch_size, seq_len)"
   ]
  },
  {
   "cell_type": "code",
   "execution_count": 6,
   "metadata": {},
   "outputs": [
    {
     "name": "stdout",
     "output_type": "stream",
     "text": [
      "English unique words: 88\n",
      "Korean unique words: 69\n"
     ]
    }
   ],
   "source": [
    "# 고유 단어 수 계산\n",
    "english_words = set()\n",
    "korean_words = set()\n",
    "for src, tgt in data:\n",
    "    english_words.update(src.split())\n",
    "    korean_words.update(tgt.split())\n",
    "\n",
    "print(f\"English unique words: {len(english_words)}\")\n",
    "print(f\"Korean unique words: {len(korean_words)}\")"
   ]
  },
  {
   "cell_type": "code",
   "execution_count": 7,
   "metadata": {},
   "outputs": [
    {
     "name": "stdout",
     "output_type": "stream",
     "text": [
      "Max length: 128, Position: 138\n"
     ]
    }
   ],
   "source": [
    "# 데이터셋에서 가장 긴 문장의 길이 계산\n",
    "max_length = max(entry[\"input_ids\"].shape[0] for entry in dataset)\n",
    "\n",
    "# 여유 값을 더해 position 설정\n",
    "position = max_length + 10  # 여유로 10 추가\n",
    "print(f\"Max length: {max_length}, Position: {position}\")\n"
   ]
  },
  {
   "cell_type": "code",
   "execution_count": 8,
   "metadata": {},
   "outputs": [],
   "source": [
    "vocab_size=200\n",
    "d_model=256 \n",
    "position=138 \n",
    "num_heads=4\n",
    "num_encoder_layers = 6\n",
    "num_decoder_layers = 6"
   ]
  },
  {
   "cell_type": "code",
   "execution_count": 9,
   "metadata": {},
   "outputs": [
    {
     "ename": "NameError",
     "evalue": "name 'Transformer' is not defined",
     "output_type": "error",
     "traceback": [
      "\u001b[1;31m---------------------------------------------------------------------------\u001b[0m",
      "\u001b[1;31mNameError\u001b[0m                                 Traceback (most recent call last)",
      "Cell \u001b[1;32mIn[9], line 1\u001b[0m\n\u001b[1;32m----> 1\u001b[0m \u001b[38;5;28mprint\u001b[39m(\u001b[43mTransformer\u001b[49m)\n",
      "\u001b[1;31mNameError\u001b[0m: name 'Transformer' is not defined"
     ]
    }
   ],
   "source": [
    "print(Transformer)\n"
   ]
  },
  {
   "cell_type": "code",
   "execution_count": 10,
   "metadata": {},
   "outputs": [],
   "source": [
    "from Transformer import Transformer\n",
    "transformer_model = Transformer(\n",
    "    vocab_size, \n",
    "    d_model, \n",
    "    position, \n",
    "    num_heads, \n",
    "    num_encoder_layers, \n",
    "    num_decoder_layers)"
   ]
  },
  {
   "cell_type": "code",
   "execution_count": 17,
   "metadata": {},
   "outputs": [
    {
     "name": "stdout",
     "output_type": "stream",
     "text": [
      "Total Parameters: 13478912\n"
     ]
    }
   ],
   "source": [
    "total_params = sum(p.numel() for p in transformer_model.parameters())\n",
    "print(f\"Total Parameters: {total_params}\")"
   ]
  }
 ],
 "metadata": {
  "kernelspec": {
   "display_name": "study",
   "language": "python",
   "name": "python3"
  },
  "language_info": {
   "codemirror_mode": {
    "name": "ipython",
    "version": 3
   },
   "file_extension": ".py",
   "mimetype": "text/x-python",
   "name": "python",
   "nbconvert_exporter": "python",
   "pygments_lexer": "ipython3",
   "version": "3.10.15"
  }
 },
 "nbformat": 4,
 "nbformat_minor": 2
}
